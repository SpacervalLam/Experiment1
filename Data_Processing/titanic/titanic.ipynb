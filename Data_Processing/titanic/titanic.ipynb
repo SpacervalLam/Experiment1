{
 "cells": [
  {
   "cell_type": "markdown",
   "id": "90007179-ef00-49b7-9d05-4330f589d448",
   "metadata": {},
   "source": [
    "# 导入依赖"
   ]
  },
  {
   "cell_type": "code",
   "execution_count": 1,
   "id": "227a61ea-3e0e-4c05-966c-4bbf93142419",
   "metadata": {},
   "outputs": [
    {
     "name": "stdout",
     "output_type": "stream",
     "text": [
      "NumPy 2.0.1 imported\n",
      "Pandas 2.2.3 imported\n"
     ]
    }
   ],
   "source": [
    "import numpy as np\n",
    "import pandas as pd\n",
    "import matplotlib.pyplot as plt\n",
    "from sklearn.tree import DecisionTreeClassifier\n",
    "%matplotlib inline\n",
    "\n",
    "print(f\"NumPy {np.__version__} imported\" )\n",
    "print(f\"Pandas {pd.__version__} imported\" )"
   ]
  },
  {
   "cell_type": "markdown",
   "id": "ba302e4b-8b07-43df-86ec-17b41f936380",
   "metadata": {},
   "source": [
    "# 下载数据集"
   ]
  },
  {
   "cell_type": "code",
   "execution_count": 2,
   "id": "b42768e7-c8cc-4912-9b30-ce1afdf34cd8",
   "metadata": {},
   "outputs": [],
   "source": [
    "# 读入数据集\n",
    "train= pd.read_csv('data/train.csv')\n",
    "test= pd.read_csv('data/test.csv')\n",
    "# 复制数据避免修改原始数据\n",
    "train_data = train.copy()\n",
    "test_data = test.copy()\n",
    "# 合并测试集和训练集以便于从全部数据总结特征\n",
    "full_data = pd.concat([train_data,test_data],ignore_index=True)\n",
    "\n",
    "# 删除不需要的列\n",
    "full_data = full_data.drop(['Name', 'Ticket'], axis=1) "
   ]
  },
  {
   "cell_type": "code",
   "execution_count": 3,
   "id": "f1f4380b-531b-49fb-8ca6-07772bc2df31",
   "metadata": {},
   "outputs": [
    {
     "data": {
      "text/html": [
       "<div>\n",
       "<style scoped>\n",
       "    .dataframe tbody tr th:only-of-type {\n",
       "        vertical-align: middle;\n",
       "    }\n",
       "\n",
       "    .dataframe tbody tr th {\n",
       "        vertical-align: top;\n",
       "    }\n",
       "\n",
       "    .dataframe thead th {\n",
       "        text-align: right;\n",
       "    }\n",
       "</style>\n",
       "<table border=\"1\" class=\"dataframe\">\n",
       "  <thead>\n",
       "    <tr style=\"text-align: right;\">\n",
       "      <th></th>\n",
       "      <th>PassengerId</th>\n",
       "      <th>Survived</th>\n",
       "      <th>Pclass</th>\n",
       "      <th>Sex</th>\n",
       "      <th>Age</th>\n",
       "      <th>SibSp</th>\n",
       "      <th>Parch</th>\n",
       "      <th>Fare</th>\n",
       "      <th>Cabin</th>\n",
       "      <th>Embarked</th>\n",
       "    </tr>\n",
       "  </thead>\n",
       "  <tbody>\n",
       "    <tr>\n",
       "      <th>0</th>\n",
       "      <td>1</td>\n",
       "      <td>0.0</td>\n",
       "      <td>3</td>\n",
       "      <td>male</td>\n",
       "      <td>22.0</td>\n",
       "      <td>1</td>\n",
       "      <td>0</td>\n",
       "      <td>7.2500</td>\n",
       "      <td>NaN</td>\n",
       "      <td>S</td>\n",
       "    </tr>\n",
       "    <tr>\n",
       "      <th>1</th>\n",
       "      <td>2</td>\n",
       "      <td>1.0</td>\n",
       "      <td>1</td>\n",
       "      <td>female</td>\n",
       "      <td>38.0</td>\n",
       "      <td>1</td>\n",
       "      <td>0</td>\n",
       "      <td>71.2833</td>\n",
       "      <td>C85</td>\n",
       "      <td>C</td>\n",
       "    </tr>\n",
       "    <tr>\n",
       "      <th>2</th>\n",
       "      <td>3</td>\n",
       "      <td>1.0</td>\n",
       "      <td>3</td>\n",
       "      <td>female</td>\n",
       "      <td>26.0</td>\n",
       "      <td>0</td>\n",
       "      <td>0</td>\n",
       "      <td>7.9250</td>\n",
       "      <td>NaN</td>\n",
       "      <td>S</td>\n",
       "    </tr>\n",
       "    <tr>\n",
       "      <th>3</th>\n",
       "      <td>4</td>\n",
       "      <td>1.0</td>\n",
       "      <td>1</td>\n",
       "      <td>female</td>\n",
       "      <td>35.0</td>\n",
       "      <td>1</td>\n",
       "      <td>0</td>\n",
       "      <td>53.1000</td>\n",
       "      <td>C123</td>\n",
       "      <td>S</td>\n",
       "    </tr>\n",
       "    <tr>\n",
       "      <th>4</th>\n",
       "      <td>5</td>\n",
       "      <td>0.0</td>\n",
       "      <td>3</td>\n",
       "      <td>male</td>\n",
       "      <td>35.0</td>\n",
       "      <td>0</td>\n",
       "      <td>0</td>\n",
       "      <td>8.0500</td>\n",
       "      <td>NaN</td>\n",
       "      <td>S</td>\n",
       "    </tr>\n",
       "    <tr>\n",
       "      <th>5</th>\n",
       "      <td>6</td>\n",
       "      <td>0.0</td>\n",
       "      <td>3</td>\n",
       "      <td>male</td>\n",
       "      <td>NaN</td>\n",
       "      <td>0</td>\n",
       "      <td>0</td>\n",
       "      <td>8.4583</td>\n",
       "      <td>NaN</td>\n",
       "      <td>Q</td>\n",
       "    </tr>\n",
       "    <tr>\n",
       "      <th>6</th>\n",
       "      <td>7</td>\n",
       "      <td>0.0</td>\n",
       "      <td>1</td>\n",
       "      <td>male</td>\n",
       "      <td>54.0</td>\n",
       "      <td>0</td>\n",
       "      <td>0</td>\n",
       "      <td>51.8625</td>\n",
       "      <td>E46</td>\n",
       "      <td>S</td>\n",
       "    </tr>\n",
       "    <tr>\n",
       "      <th>7</th>\n",
       "      <td>8</td>\n",
       "      <td>0.0</td>\n",
       "      <td>3</td>\n",
       "      <td>male</td>\n",
       "      <td>2.0</td>\n",
       "      <td>3</td>\n",
       "      <td>1</td>\n",
       "      <td>21.0750</td>\n",
       "      <td>NaN</td>\n",
       "      <td>S</td>\n",
       "    </tr>\n",
       "  </tbody>\n",
       "</table>\n",
       "</div>"
      ],
      "text/plain": [
       "   PassengerId  Survived  Pclass     Sex   Age  SibSp  Parch     Fare Cabin  \\\n",
       "0            1       0.0       3    male  22.0      1      0   7.2500   NaN   \n",
       "1            2       1.0       1  female  38.0      1      0  71.2833   C85   \n",
       "2            3       1.0       3  female  26.0      0      0   7.9250   NaN   \n",
       "3            4       1.0       1  female  35.0      1      0  53.1000  C123   \n",
       "4            5       0.0       3    male  35.0      0      0   8.0500   NaN   \n",
       "5            6       0.0       3    male   NaN      0      0   8.4583   NaN   \n",
       "6            7       0.0       1    male  54.0      0      0  51.8625   E46   \n",
       "7            8       0.0       3    male   2.0      3      1  21.0750   NaN   \n",
       "\n",
       "  Embarked  \n",
       "0        S  \n",
       "1        C  \n",
       "2        S  \n",
       "3        S  \n",
       "4        S  \n",
       "5        Q  \n",
       "6        S  \n",
       "7        S  "
      ]
     },
     "execution_count": 3,
     "metadata": {},
     "output_type": "execute_result"
    }
   ],
   "source": [
    "full_data.head(8)"
   ]
  },
  {
   "cell_type": "markdown",
   "id": "1fe8f0f0-9ef0-48d6-98bc-17b5fe7b9fea",
   "metadata": {},
   "source": [
    "# 数据清洗\n",
    "**查找缺失值：**"
   ]
  },
  {
   "cell_type": "code",
   "execution_count": 4,
   "id": "2a6d7858-444a-4d85-b5eb-c061a505ddb6",
   "metadata": {},
   "outputs": [
    {
     "data": {
      "text/plain": [
       "PassengerId       0\n",
       "Survived        418\n",
       "Pclass            0\n",
       "Sex               0\n",
       "Age             263\n",
       "SibSp             0\n",
       "Parch             0\n",
       "Fare              1\n",
       "Cabin          1014\n",
       "Embarked          2\n",
       "dtype: int64"
      ]
     },
     "execution_count": 4,
     "metadata": {},
     "output_type": "execute_result"
    }
   ],
   "source": [
    "full_data.isnull().sum()"
   ]
  },
  {
   "cell_type": "markdown",
   "id": "8ba1dd56-5f14-4a47-a048-da32be74f83c",
   "metadata": {},
   "source": [
    "观察到：  \n",
    "Age，Embarked，Fare，Cabin有缺失值 （Survived是目标变量）\n",
    "\n",
    "Embarked是**分类型**特征，直接用众数填充"
   ]
  },
  {
   "cell_type": "code",
   "execution_count": 5,
   "id": "ff71630f-bcd6-4399-96e5-c6ef58231283",
   "metadata": {},
   "outputs": [],
   "source": [
    "# 用众数填充缺失的Embarked\n",
    "full_data.fillna({'Embarked': full_data['Embarked'].mode()[0]}, inplace=True)"
   ]
  },
  {
   "cell_type": "markdown",
   "id": "7b621ccf-afa9-4ebd-a3bd-832d929327e0",
   "metadata": {},
   "source": [
    "Fare是**数值型**特征，且它与Pclass关联性较强"
   ]
  },
  {
   "cell_type": "code",
   "execution_count": 6,
   "id": "7b83416f-a307-444a-8878-067ad99ca21f",
   "metadata": {},
   "outputs": [
    {
     "data": {
      "text/html": [
       "<div>\n",
       "<style scoped>\n",
       "    .dataframe tbody tr th:only-of-type {\n",
       "        vertical-align: middle;\n",
       "    }\n",
       "\n",
       "    .dataframe tbody tr th {\n",
       "        vertical-align: top;\n",
       "    }\n",
       "\n",
       "    .dataframe thead th {\n",
       "        text-align: right;\n",
       "    }\n",
       "</style>\n",
       "<table border=\"1\" class=\"dataframe\">\n",
       "  <thead>\n",
       "    <tr style=\"text-align: right;\">\n",
       "      <th></th>\n",
       "      <th>PassengerId</th>\n",
       "      <th>Survived</th>\n",
       "      <th>Pclass</th>\n",
       "      <th>Sex</th>\n",
       "      <th>Age</th>\n",
       "      <th>SibSp</th>\n",
       "      <th>Parch</th>\n",
       "      <th>Fare</th>\n",
       "      <th>Cabin</th>\n",
       "      <th>Embarked</th>\n",
       "    </tr>\n",
       "  </thead>\n",
       "  <tbody>\n",
       "    <tr>\n",
       "      <th>1043</th>\n",
       "      <td>1044</td>\n",
       "      <td>NaN</td>\n",
       "      <td>3</td>\n",
       "      <td>male</td>\n",
       "      <td>60.5</td>\n",
       "      <td>0</td>\n",
       "      <td>0</td>\n",
       "      <td>NaN</td>\n",
       "      <td>NaN</td>\n",
       "      <td>S</td>\n",
       "    </tr>\n",
       "  </tbody>\n",
       "</table>\n",
       "</div>"
      ],
      "text/plain": [
       "      PassengerId  Survived  Pclass   Sex   Age  SibSp  Parch  Fare Cabin  \\\n",
       "1043         1044       NaN       3  male  60.5      0      0   NaN   NaN   \n",
       "\n",
       "     Embarked  \n",
       "1043        S  "
      ]
     },
     "execution_count": 6,
     "metadata": {},
     "output_type": "execute_result"
    }
   ],
   "source": [
    "# 查看缺失Fare的那行数据\n",
    "full_data[full_data['Fare'].isnull()]"
   ]
  },
  {
   "cell_type": "markdown",
   "id": "807343c8-0761-496d-bced-b85f0fe87af1",
   "metadata": {},
   "source": [
    "由于缺失Fare的数据的Pclass=3，所以我们用Pclass=3的数据的Fare的median来填充缺失"
   ]
  },
  {
   "cell_type": "code",
   "execution_count": 7,
   "id": "7f8e3501-6bea-4cff-ad82-d451f72b59bc",
   "metadata": {},
   "outputs": [],
   "source": [
    "full_data.fillna({'Fare': full_data[full_data['Pclass'] == 3]['Fare'].median()}, inplace=True)"
   ]
  },
  {
   "cell_type": "markdown",
   "id": "c6cd089e-c21a-48ec-ae0c-fcccf096bed9",
   "metadata": {},
   "source": [
    "将Sex和Embarked数值化："
   ]
  },
  {
   "cell_type": "code",
   "execution_count": 8,
   "id": "1fe1103e-b0a1-4b82-867c-2841d0755b1b",
   "metadata": {},
   "outputs": [],
   "source": [
    "full_data['Sex'] = full_data['Sex'].map({'male': 0, 'female': 1})\n",
    "full_data = pd.get_dummies(full_data, columns=['Embarked'], prefix='Emb')"
   ]
  },
  {
   "cell_type": "markdown",
   "id": "a512a665-b520-4902-aadb-07325f16617c",
   "metadata": {},
   "source": [
    "用**随机森林**来预测并填充Age的缺失值:"
   ]
  },
  {
   "cell_type": "code",
   "execution_count": 9,
   "id": "a62d1eb6-67a9-4f3c-8d71-60356b2cf35c",
   "metadata": {},
   "outputs": [],
   "source": [
    "from sklearn.ensemble import RandomForestRegressor\n",
    "from sklearn.experimental import enable_iterative_imputer\n",
    "from sklearn.impute import IterativeImputer"
   ]
  },
  {
   "cell_type": "code",
   "execution_count": 10,
   "id": "293a437e-1a8a-4b46-87e6-b57d0990d79e",
   "metadata": {},
   "outputs": [],
   "source": [
    "# 创建随机森林填充器对象\n",
    "imputer = IterativeImputer(\n",
    "    estimator=RandomForestRegressor(n_estimators=100, max_depth=5, random_state=0), # 回归模型\n",
    "    max_iter=10, # 最大迭代次数\n",
    "    random_state=42, # 随机数种子\n",
    "    verbose=2 # 显示日志\n",
    ")"
   ]
  },
  {
   "cell_type": "code",
   "execution_count": 11,
   "id": "87e85785-d4c8-4229-be27-2d86b680f531",
   "metadata": {},
   "outputs": [],
   "source": [
    "# 填充Age列中的缺失值\n",
    "imputer.fit(full_data[['Age']])\n",
    "full_data['Age'] = imputer.transform(full_data[['Age']])"
   ]
  },
  {
   "cell_type": "markdown",
   "id": "fa3eef06-510b-44ef-8275-5489713925a8",
   "metadata": {},
   "source": [
    "Cabin的有无可能对存活结果有影响："
   ]
  },
  {
   "cell_type": "code",
   "execution_count": 12,
   "id": "45f4ab57-645f-4a12-94bb-874255e84430",
   "metadata": {},
   "outputs": [],
   "source": [
    "# 将Cabin转化为分类变量\n",
    "full_data.loc[full_data['Cabin'].notnull(), 'Cabin'] = 1\n",
    "full_data.loc[full_data['Cabin'].isnull(), 'Cabin'] = 0"
   ]
  },
  {
   "cell_type": "markdown",
   "id": "e9f9f6ce-cffc-4392-a09d-568f89dc5789",
   "metadata": {},
   "source": [
    "现在，缺失值已经全部填充完毕!"
   ]
  },
  {
   "cell_type": "markdown",
   "id": "9f386e5d-6866-4c52-945b-d926119a3c81",
   "metadata": {},
   "source": [
    "# 特征工程\n",
    "创建新特征："
   ]
  },
  {
   "cell_type": "code",
   "execution_count": 13,
   "id": "afa8c379-e268-4eaa-a7b2-e5185a178f90",
   "metadata": {},
   "outputs": [],
   "source": [
    "# 创建新特征\n",
    "full_data['FamilySize'] = full_data['SibSp'] + full_data['Parch'] + 1\n",
    "full_data['IsAlone'] = 0\n",
    "full_data.loc[full_data['FamilySize'] == 1, 'IsAlone'] = 1"
   ]
  },
  {
   "cell_type": "code",
   "execution_count": 14,
   "id": "2c36c7a1-ff88-47e8-8150-6f590546e2a0",
   "metadata": {},
   "outputs": [
    {
     "data": {
      "text/plain": [
       "PassengerId      0\n",
       "Survived       418\n",
       "Pclass           0\n",
       "Sex              0\n",
       "Age              0\n",
       "SibSp            0\n",
       "Parch            0\n",
       "Fare             0\n",
       "Cabin            0\n",
       "Emb_C            0\n",
       "Emb_Q            0\n",
       "Emb_S            0\n",
       "FamilySize       0\n",
       "IsAlone          0\n",
       "dtype: int64"
      ]
     },
     "execution_count": 14,
     "metadata": {},
     "output_type": "execute_result"
    }
   ],
   "source": [
    "full_data.isnull().sum()"
   ]
  },
  {
   "cell_type": "markdown",
   "id": "4a285cee-325d-46d2-b708-2d96c5402875",
   "metadata": {},
   "source": [
    "将full_data重新拆分为训练集和测试集："
   ]
  },
  {
   "cell_type": "code",
   "execution_count": 15,
   "id": "5d85ea60-a054-4fe0-a41f-c04be8065982",
   "metadata": {},
   "outputs": [],
   "source": [
    "# 根据Survived列将数据重新分为训练集和测试集\n",
    "train_data = full_data[full_data['Survived'].notnull()]\n",
    "test_data = full_data[full_data['Survived'].isnull()]"
   ]
  },
  {
   "cell_type": "markdown",
   "id": "f808d6fc-c7de-4e2e-84c6-60eaed5b3a00",
   "metadata": {},
   "source": [
    "将数据标准化："
   ]
  },
  {
   "cell_type": "code",
   "execution_count": 16,
   "id": "6cdb930a-45b4-4ca3-9944-babafa48196c",
   "metadata": {},
   "outputs": [],
   "source": [
    "from sklearn.preprocessing import StandardScaler # 标准化\n",
    "scaler = StandardScaler()\n",
    "\n",
    "train_data_X_scaled = scaler.fit(train_data.drop('Survived', axis=1)).transform(train_data.drop('Survived', axis=1))\n",
    "train_data_X_scaled = pd.DataFrame(train_data_X_scaled, columns=train_data.drop('Survived', axis=1).columns)\n",
    "\n",
    "test_data_X_scaled = scaler.fit(train_data.drop('Survived', axis=1)).transform(test_data.drop('Survived', axis=1))\n",
    "test_data_X_scaled = pd.DataFrame(test_data_X_scaled, columns=test_data.drop('Survived', axis=1).columns)"
   ]
  },
  {
   "cell_type": "markdown",
   "id": "96c6f53f-9e75-41ca-a5c8-13e0fb6fe572",
   "metadata": {},
   "source": [
    "导入各种模型以及评分函数："
   ]
  },
  {
   "cell_type": "code",
   "execution_count": 17,
   "id": "8f709a7f-9b9b-4fd9-bcc3-99f7abf17378",
   "metadata": {},
   "outputs": [],
   "source": [
    "from sklearn.neighbors import KNeighborsClassifier\n",
    "from sklearn.linear_model import LogisticRegression\n",
    "from sklearn.naive_bayes import GaussianNB\n",
    "from sklearn.tree import DecisionTreeClassifier\n",
    "from sklearn.ensemble import RandomForestClassifier\n",
    "from sklearn.ensemble import GradientBoostingClassifier\n",
    "from sklearn.svm import SVC\n",
    "\n",
    "from sklearn.model_selection import cross_val_score"
   ]
  },
  {
   "cell_type": "markdown",
   "id": "425554ee-1800-4bb2-8e77-1b833aeefe6b",
   "metadata": {},
   "source": [
    "对模型拟合效果评分"
   ]
  },
  {
   "cell_type": "code",
   "execution_count": 18,
   "id": "3725701c-9f9b-4911-8e04-1dd2c3cbcbfc",
   "metadata": {},
   "outputs": [
    {
     "name": "stdout",
     "output_type": "stream",
     "text": [
      "KNN:0.7789404306069926,[0.74301676 0.76404494 0.75280899 0.82022472 0.81460674]\n",
      "LR:0.7968614650681062,[0.79329609 0.79775281 0.78651685 0.79775281 0.80898876]\n",
      "NB:0.7464503169920281,[0.65921788 0.73595506 0.75842697 0.79775281 0.78089888]\n",
      "Tree:0.754371979160128,[0.60893855 0.78651685 0.76966292 0.79775281 0.80898876]\n",
      "RF:0.8025673215742891,[0.7150838  0.78651685 0.83707865 0.81460674 0.85955056]\n",
      "GDBT:0.7779612077082418,[0.61452514 0.80898876 0.8258427  0.79775281 0.84269663]\n",
      "SVM:0.7878601468834348,[0.80446927 0.80898876 0.78651685 0.75280899 0.78651685]\n"
     ]
    }
   ],
   "source": [
    "models = [\n",
    "    KNeighborsClassifier(3),\n",
    "    LogisticRegression(random_state=0),\n",
    "    GaussianNB(),\n",
    "    DecisionTreeClassifier(random_state=0),\n",
    "    RandomForestClassifier(random_state=0),\n",
    "    GradientBoostingClassifier(random_state=0),\n",
    "    SVC(kernel=\"linear\", C=0.025)\n",
    "]\n",
    "\n",
    "names=['KNN','LR','NB','Tree','RF','GDBT','SVM']\n",
    "scores=[]\n",
    "for name, model in zip(names, models):\n",
    "    score=cross_val_score(model, train_data_X_scaled, train_data['Survived'], cv=5)\n",
    "    scores.append(score.mean())\n",
    "    print(\"{}:{},{}\".format(name,score.mean(),score))"
   ]
  },
  {
   "cell_type": "code",
   "execution_count": 19,
   "id": "17ad5125-bbb2-422b-b35c-d627e014dc52",
   "metadata": {},
   "outputs": [
    {
     "name": "stdin",
     "output_type": "stream",
     "text": [
      "请选择模型： RF\n"
     ]
    }
   ],
   "source": [
    "# 选择模型\n",
    "choice = str(input(\"请选择模型：\"))\n",
    "if choice == 'RF':\n",
    "    model = RandomForestClassifier(\n",
    "        n_estimators=200,\n",
    "        max_depth=7,\n",
    "        min_samples_split=6,\n",
    "        random_state=42\n",
    "    )\n",
    "elif choice == 'LR':\n",
    "    model = LogisticRegression(random_state=0)\n",
    "elif choice == 'KNN':\n",
    "    model = KNeighborsClassifier(3)\n",
    "elif choice == 'Tree':\n",
    "    model = DecisionTreeClassifier(random_state=0)\n",
    "elif choice == 'NB':\n",
    "    model = GaussianNB()\n",
    "elif choice == 'SVM':\n",
    "    model = SVC(kernel=\"linear\", C=0.025)\n",
    "elif choice == 'GDBT':\n",
    "    model = GradientBoostingClassifier(random_state=0)\n",
    "else:\n",
    "    print(\"输入错误，请重新输入\")\n",
    "    exit()\n",
    "# 训练模型\n",
    "model.fit(train_data_X_scaled, train_data['Survived'])\n",
    "\n",
    "# 训练模型\n",
    "model = RandomForestClassifier(\n",
    "    n_estimators=200,\n",
    "    max_depth=7,\n",
    "    min_samples_split=6,\n",
    "    random_state=42\n",
    ")\n",
    "model.fit(train_data_X_scaled, train_data['Survived'])\n",
    "\n",
    "# 预测测试集\n",
    "predictions = model.predict(test_data_X_scaled)\n",
    "predictions = predictions.astype(int) # float64转int"
   ]
  },
  {
   "cell_type": "code",
   "execution_count": 20,
   "id": "7a583802-c763-4b43-9f12-4e5bc4712260",
   "metadata": {},
   "outputs": [
    {
     "data": {
      "text/plain": [
       "array([0, 0, 0, 0, 0, 0, 0, 0, 1, 0, 0, 0, 1, 0, 1, 1, 0, 0, 0, 1])"
      ]
     },
     "execution_count": 20,
     "metadata": {},
     "output_type": "execute_result"
    }
   ],
   "source": [
    "predictions[:20]"
   ]
  },
  {
   "cell_type": "code",
   "execution_count": 21,
   "id": "8358ed29-eabe-4597-994a-d5244e7a1ecf",
   "metadata": {},
   "outputs": [
    {
     "name": "stdout",
     "output_type": "stream",
     "text": [
      "结果已保存到：submission_demo1.csv\n"
     ]
    }
   ],
   "source": [
    "# 保存结果\n",
    "submission = pd.DataFrame({\n",
    "        \"PassengerId\": test_data[\"PassengerId\"],\n",
    "        \"Survived\": predictions\n",
    "    })\n",
    "submission.to_csv('submission_demo1.csv', index=False)\n",
    "print(\"结果已保存到：submission_demo1.csv\")"
   ]
  },
  {
   "cell_type": "code",
   "execution_count": 22,
   "id": "765e2d9d-f620-4766-b4bb-7302b8aed632",
   "metadata": {},
   "outputs": [
    {
     "data": {
      "image/png": "[encoded data removed]",
      "text/plain": [
       "<Figure size 1200x600 with 1 Axes>"
      ]
     },
     "metadata": {},
     "output_type": "display_data"
    }
   ],
   "source": [
    "importances = model.feature_importances_\n",
    "indices = np.argsort(importances)[::-1]\n",
    "\n",
    "plt.figure(figsize=(12,6))\n",
    "plt.title(\"Feature Importances\")\n",
    "plt.bar(range(train_data_X_scaled.shape[1]), importances[indices], color=\"r\", align=\"center\")\n",
    "plt.xticks(range(train_data_X_scaled.shape[1]), train_data_X_scaled.columns[indices])\n",
    "plt.xlim([-1, train_data_X_scaled.shape[1]])\n",
    "plt.show()"
   ]
  },
  {
   "cell_type": "code",
   "execution_count": null,
   "id": "fa1d34e0-0493-48d6-bb31-45fa420e5d48",
   "metadata": {},
   "outputs": [],
   "source": []
  }
 ],
 "metadata": {
  "kernelspec": {
   "display_name": "Python 3 (ipykernel)",
   "language": "python",
   "name": "python3"
  },
  "language_info": {
   "codemirror_mode": {
    "name": "ipython",
    "version": 3
   },
   "file_extension": ".py",
   "mimetype": "text/x-python",
   "name": "python",
   "nbconvert_exporter": "python",
   "pygments_lexer": "ipython3",
   "version": "3.12.3"
  }
 },
 "nbformat": 4,
 "nbformat_minor": 5
}
