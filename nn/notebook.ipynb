{
 "cells": [
  {
   "cell_type": "markdown",
   "id": "753d3ecd-0ed0-4f84-aba5-0473ee29e7c7",
   "metadata": {},
   "source": [
    "# 任务 1：加载数据集"
   ]
  },
  {
   "cell_type": "code",
   "execution_count": 1,
   "id": "c7de58cd-a402-47a5-bed4-2c05bd0790fe",
   "metadata": {},
   "outputs": [],
   "source": [
    "import torch.optim as optim\n",
    "import torchvision\n",
    "import torchvision.transforms as transforms\n",
    "import matplotlib.pyplot as plt\n",
    "import numpy as np"
   ]
  },
  {
   "cell_type": "markdown",
   "id": "f6cbf396-a13f-4a6c-a1be-29dc946d4c47",
   "metadata": {},
   "source": [
    "小批量梯度下降："
   ]
  },
  {
   "cell_type": "code",
   "execution_count": 2,
   "id": "4a5c9080-c116-470e-b83f-5d361d1bbc5a",
   "metadata": {},
   "outputs": [
    {
     "name": "stdout",
     "output_type": "stream",
     "text": [
      "Files already downloaded and verified\n",
      "Files already downloaded and verified\n"
     ]
    }
   ],
   "source": [
    "import torch\n",
    "\n",
    "batch_size = 4\n",
    "\n",
    "# CIFAR10 类别\n",
    "classes = ('plane', 'car', 'bird', 'cat', 'deer','dog', 'frog', 'horse', 'ship', 'truck')\n",
    "\n",
    "# 构建数据规范化变换\n",
    "transform = transforms.Compose([\n",
    "    transforms.ToTensor(),\n",
    "    transforms.Normalize((0.5, 0.5, 0.5), (0.5, 0.5, 0.5))\n",
    "])\n",
    "\n",
    "# 构建 torchvision.datasets.CIFAR10 对象\n",
    "trainset = torchvision.datasets.CIFAR10(root='./data', train=True, download=True, transform=transform)\n",
    "\n",
    "# 构建 torch.utils.data.DataLoader 对象\n",
    "trainloader = torch.utils.data.DataLoader(trainset, batch_size=batch_size, shuffle=True, num_workers=0)\n",
    "\n",
    "# 模仿训练数据集对象实例的建立方式，构建测试集\n",
    "testset = torchvision.datasets.CIFAR10(root='./data', train=False, download=True, transform=transform)\n",
    "testloader = torch.utils.data.DataLoader(testset, batch_size=batch_size, shuffle=False, num_workers=0)"
   ]
  },
  {
   "cell_type": "markdown",
   "id": "18f522a4-ae35-40f7-b249-e99ef4719a74",
   "metadata": {},
   "source": [
    "在完成数据加载后，可以使用以下代码检查加载数据的正确性。"
   ]
  },
  {
   "cell_type": "code",
   "execution_count": 3,
   "id": "cfd53feb-e03c-4c95-b0c9-1a3dbde21bdd",
   "metadata": {},
   "outputs": [
    {
     "data": {
      "image/png": "[encoded data removed]",
      "text/plain": [
       "<Figure size 640x480 with 1 Axes>"
      ]
     },
     "metadata": {},
     "output_type": "display_data"
    },
    {
     "name": "stdout",
     "output_type": "stream",
     "text": [
      " ship   dog   dog truck\n"
     ]
    }
   ],
   "source": [
    "# 可视化部分训练数据\n",
    "def imshow(img):\n",
    "    img = img / 2 + 0.5  # 反归一化\n",
    "    npimg = img.numpy()\n",
    "    plt.imshow(np.transpose(npimg, (1, 2, 0)))\n",
    "    plt.show()\n",
    "\n",
    "# 随机取一个批次的训练数据\n",
    "dataiter = iter(trainloader)\n",
    "images, labels = next(dataiter)\n",
    "# 展示图像\n",
    "imshow(torchvision.utils.make_grid(images))\n",
    "# 打印相关图像的标签\n",
    "print(' '.join('%5s' % classes[labels[j]] for j in range(batch_size)))"
   ]
  },
  {
   "cell_type": "markdown",
   "id": "a0f04dfc-9211-4d0f-8160-88bb7b66fc4c",
   "metadata": {},
   "source": [
    "# 任务 2: 定义卷积神经网络\n",
    "\n",
    "考虑使用一个由二维卷积层、池化层、二维卷积层后接三个全连接层组成的卷积神经网络完成图像分类任务。\n",
    "\n",
    "        #  conv1: Conv2d(3, 6, kernel_size=5)\n",
    "        #  pool:  MaxPool2d(kernel_size=2, stride=2)\n",
    "        #  conv2: Conv2d(6, 32, kernel_size=5)  \n",
    "        #  fc1: Linear(in_features=400, out_features=120)\n",
    "        #  fc2: Linear(in_features=120, out_features=84)\n",
    "        #  fc3: Linear(in_features=84, out_features=10)\n",
    "\n",
    "在 PyTorch 中，每个神经网络模型都需要定义一个 `forward` 方法，该方法描述了当输入数据传入模型时，数据应如何经过各个层级处理并最终输出结果。下面结合我们的网络代码逐步解释 `forward(self, x)` 的过程："
   ]
  },
  {
   "cell_type": "code",
   "execution_count": 4,
   "id": "9b33ca0b-9b27-499f-bd43-7a8e520ed0a0",
   "metadata": {},
   "outputs": [],
   "source": [
    "import torch.nn as nn\n",
    "import torch.nn.functional as F\n",
    "\n",
    "class MyNet(nn.Module):\n",
    "    def __init__(self):\n",
    "        super().__init__()\n",
    "        self.conv1 = nn.Conv2d(3, 32, 5)\n",
    "        self.pool = nn.MaxPool2d(2, 2)\n",
    "        self.conv2 = nn.Conv2d(32, 64, 5)\n",
    "        self.fc1 = nn.Linear(64 * 5 * 5, 120)\n",
    "        self.fc2 = nn.Linear(120, 84)\n",
    "        self.fc3 = nn.Linear(84, 10)\n",
    "        \n",
    "    def forward(self, x):\n",
    "        x = self.pool(F.relu(self.conv1(x)))\n",
    "        x = self.pool(F.relu(self.conv2(x)))\n",
    "        x = x.view(-1, 64 * 5 * 5)\n",
    "        x = F.relu(self.fc1(x))\n",
    "        x = F.relu(self.fc2(x))\n",
    "        x = self.fc3(x)\n",
    "        return x"
   ]
  },
  {
   "cell_type": "markdown",
   "id": "f15be1e4-114f-4ea1-882f-acb2ed7a0f3b",
   "metadata": {},
   "source": [
    "实例化网络并打印结构"
   ]
  },
  {
   "cell_type": "code",
   "execution_count": 5,
   "id": "8eed6697-5d3e-4398-a51a-2a59665fa2a0",
   "metadata": {},
   "outputs": [
    {
     "name": "stdout",
     "output_type": "stream",
     "text": [
      "\n",
      "Network architecture:\n",
      "\n",
      "MyNet(\n",
      "  (conv1): Conv2d(3, 32, kernel_size=(5, 5), stride=(1, 1))\n",
      "  (pool): MaxPool2d(kernel_size=2, stride=2, padding=0, dilation=1, ceil_mode=False)\n",
      "  (conv2): Conv2d(32, 64, kernel_size=(5, 5), stride=(1, 1))\n",
      "  (fc1): Linear(in_features=1600, out_features=120, bias=True)\n",
      "  (fc2): Linear(in_features=120, out_features=84, bias=True)\n",
      "  (fc3): Linear(in_features=84, out_features=10, bias=True)\n",
      ")\n",
      "conv1.weight: torch.Size([32, 3, 5, 5])\n",
      "conv1.bias: torch.Size([32])\n",
      "conv2.weight: torch.Size([64, 32, 5, 5])\n",
      "conv2.bias: torch.Size([64])\n",
      "fc1.weight: torch.Size([120, 1600])\n",
      "fc1.bias: torch.Size([120])\n",
      "fc2.weight: torch.Size([84, 120])\n",
      "fc2.bias: torch.Size([84])\n",
      "fc3.weight: torch.Size([10, 84])\n",
      "fc3.bias: torch.Size([10])\n"
     ]
    }
   ],
   "source": [
    "net = MyNet()\n",
    "print(\"\\nNetwork architecture:\\n\")\n",
    "print(net)\n",
    "\n",
    "for name, param in net.named_parameters():\n",
    "    print(f\"{name}: {param.data.shape}\")"
   ]
  },
  {
   "cell_type": "markdown",
   "id": "a7586d35-7f78-4ca0-92cb-76936961a6b4",
   "metadata": {},
   "source": [
    "# 任务 3: 定义损失函数和优化器\n",
    "\n",
    "我们使用分类的交叉熵 (Classification Cross Entropy) 损失与带动量 (momentum) 的随机梯度下降 (Stochastic Gradient Descent, SGD) 方法进行模型优化。\n",
    "\n",
    "配置训练参数：  \n",
    "损失函数：交叉熵损失  \n",
    "优化器：带动量的随机梯度下降（学习率0.001，动量0.9）"
   ]
  },
  {
   "cell_type": "code",
   "execution_count": 6,
   "id": "ae393f7f-5b42-45cc-814a-1aca3a189f70",
   "metadata": {},
   "outputs": [],
   "source": [
    "import torch.optim as optim\n",
    "\n",
    "criterion = nn.CrossEntropyLoss()\n",
    "optimizer = optim.SGD(net.parameters(), lr=0.001, momentum=0.9)"
   ]
  },
  {
   "cell_type": "markdown",
   "id": "2b02908f-0580-4c43-9ce4-a6d9d1039c71",
   "metadata": {},
   "source": [
    "# 任务 4: 训练图像分类器\n",
    "\n",
    "对前面定义的分类器进行训练"
   ]
  },
  {
   "cell_type": "code",
   "execution_count": 7,
   "id": "49053eb4-7348-4cdd-a067-6d7ea008692c",
   "metadata": {},
   "outputs": [
    {
     "name": "stdout",
     "output_type": "stream",
     "text": [
      "Using device: cuda:0\n",
      "Starting training...\n"
     ]
    },
    {
     "data": {
      "application/vnd.jupyter.widget-view+json": {
       "model_id": "74032317145843138436abeb6c90e7ed",
       "version_major": 2,
       "version_minor": 0
      },
      "text/plain": [
       "Epoch 1/2:   0%|          | 0/12500 [00:00<?, ?it/s]"
      ]
     },
     "metadata": {},
     "output_type": "display_data"
    },
    {
     "data": {
      "application/vnd.jupyter.widget-view+json": {
       "model_id": "970878fcd90942ffb942efedf2aaa9a5",
       "version_major": 2,
       "version_minor": 0
      },
      "text/plain": [
       "Epoch 2/2:   0%|          | 0/12500 [00:00<?, ?it/s]"
      ]
     },
     "metadata": {},
     "output_type": "display_data"
    },
    {
     "name": "stdout",
     "output_type": "stream",
     "text": [
      "Training completed. Total time: 49.13s\n"
     ]
    }
   ],
   "source": [
    "from tqdm.notebook import tqdm\n",
    "import time\n",
    "\n",
    "n_epochs = 2\n",
    "n_batches = 100\n",
    "\n",
    "device = torch.device(\"cuda:0\" if torch.cuda.is_available() else \"cpu\")\n",
    "print(\"Using device:\", device)\n",
    "net.to(device)\n",
    "\n",
    "print(\"Starting training...\")\n",
    "start_time = time.time()\n",
    "\n",
    "for epoch in range(n_epochs):\n",
    "    # 当前 n_batches 个小批次训练数据上的平均损失\n",
    "    running_loss = 0.0\n",
    "    pbar = tqdm(trainloader, desc=f\"Epoch {epoch+1}/{n_epochs}\")\n",
    "    for i, data in enumerate(pbar, 0):\n",
    "        # 获取数据及标签，并转移到 GPU（若可用）\n",
    "        inputs, labels = data[0].to(device), data[1].to(device)\n",
    "        \n",
    "        # 梯度清零，防止累加\n",
    "        optimizer.zero_grad()\n",
    "        # 前向传播\n",
    "        outputs = net(inputs)\n",
    "        # 计算损失\n",
    "        loss = criterion(outputs, labels)\n",
    "        # 反向传播\n",
    "        loss.backward()\n",
    "        # 更新模型参数\n",
    "        optimizer.step()\n",
    "\n",
    "        # 统计损失函数的滑动平均\n",
    "        running_loss += loss.item()\n",
    "        if (i+1) % n_batches == 0:\n",
    "            pbar.set_postfix(batch=i+1, loss=running_loss/n_batches)\n",
    "            running_loss = 0.0\n",
    "        pbar.update() # 更新进度条\n",
    "\n",
    "end_time = time.time()\n",
    "print(\"Training completed. Total time: {:.2f}s\".format(end_time - start_time))"
   ]
  },
  {
   "cell_type": "markdown",
   "id": "31a5bea3-8a55-4946-9e0c-5ce3178b7b0f",
   "metadata": {},
   "source": [
    "使用下述代码将模型存储到硬盘上"
   ]
  },
  {
   "cell_type": "code",
   "execution_count": 8,
   "id": "4aa09e24-43fe-468c-999b-badd54e12809",
   "metadata": {},
   "outputs": [
    {
     "name": "stdout",
     "output_type": "stream",
     "text": [
      "Model saved to ./models/cifar_net.pth\n"
     ]
    }
   ],
   "source": [
    "model_path = \"./models/cifar_net.pth\"\n",
    "torch.save(net.state_dict(), model_path)\n",
    "print(\"Model saved to\", model_path)"
   ]
  },
  {
   "cell_type": "markdown",
   "id": "d059f18e-1190-4c4d-9034-1cb2c375b0b4",
   "metadata": {},
   "source": [
    "# 任务 5: 在测试集上评估模型性能"
   ]
  },
  {
   "cell_type": "code",
   "execution_count": 9,
   "id": "0f02356c-c701-49f6-93da-826aa8b542ad",
   "metadata": {},
   "outputs": [
    {
     "name": "stdout",
     "output_type": "stream",
     "text": [
      "Using device:  cuda:0\n",
      "Overall accuracy on test set: 65.3%\n"
     ]
    }
   ],
   "source": [
    "net = MyNet() \n",
    "\n",
    "device = torch.device(\"cuda:0\" if torch.cuda.is_available() else \"cpu\")\n",
    "print(\"Using device: \", device)\n",
    "net.to(device)  \n",
    "\n",
    "net.load_state_dict(\n",
    "    torch.load(model_path, \n",
    "             map_location=device,  # 确保权重映射到当前设备\n",
    "             weights_only=True     # 消除安全警告\n",
    "    )\n",
    ")\n",
    "\n",
    "correct = 0\n",
    "total = 0\n",
    "\n",
    "with torch.no_grad():# 禁用梯度计算以节省内存\n",
    "    for data in testloader:\n",
    "        images, labels = data[0].to(device), data[1].to(device) \n",
    "        outputs = net(images)\n",
    "        _, predicted = torch.max(outputs, 1)\n",
    "        total += labels.size(0)\n",
    "        correct += (predicted == labels).sum().item()\n",
    "\n",
    "print(\"Overall accuracy on test set: %.1f%%\" % (100 * correct / total))"
   ]
  },
  {
   "cell_type": "markdown",
   "id": "f383cfb1-4bbf-48d9-932e-fd7b4359f87b",
   "metadata": {},
   "source": [
    "# 任务 6: 统计各类别测试样本准确率"
   ]
  },
  {
   "cell_type": "code",
   "execution_count": 10,
   "id": "287ae653-5e85-40d0-92d3-c4426f773b77",
   "metadata": {},
   "outputs": [
    {
     "name": "stdout",
     "output_type": "stream",
     "text": [
      "Calculating per-class accuracy...\n",
      "Accuracy of plane : 78 %\n",
      "Accuracy of   car : 84 %\n",
      "Accuracy of  bird : 33 %\n",
      "Accuracy of   cat : 51 %\n",
      "Accuracy of  deer : 44 %\n",
      "Accuracy of   dog : 60 %\n",
      "Accuracy of  frog : 83 %\n",
      "Accuracy of horse : 68 %\n",
      "Accuracy of  ship : 81 %\n",
      "Accuracy of truck : 66 %\n"
     ]
    }
   ],
   "source": [
    "print(\"Calculating per-class accuracy...\")\n",
    "class_correct = [0.] * 10\n",
    "class_total = [0.] * 10\n",
    "with torch.no_grad():\n",
    "    for data in testloader:\n",
    "        images, labels = data[0].to(device), data[1].to(device)\n",
    "        outputs = net(images)\n",
    "        _, predicted = torch.max(outputs, 1)\n",
    "        for i in range(len(labels)):\n",
    "            label = labels[i].item()\n",
    "            class_total[label] += 1\n",
    "            class_correct[label] += (predicted[i] == labels[i]).item()\n",
    "\n",
    "for i in range(10):\n",
    "    print('Accuracy of %5s : %2d %%' % (classes[i], 100 * class_correct[i] / class_total[i]))"
   ]
  }
 ],
 "metadata": {
  "kernelspec": {
   "display_name": "py01",
   "language": "python",
   "name": "python3"
  },
  "language_info": {
   "codemirror_mode": {
    "name": "ipython",
    "version": 3
   },
   "file_extension": ".py",
   "mimetype": "text/x-python",
   "name": "python",
   "nbconvert_exporter": "python",
   "pygments_lexer": "ipython3",
   "version": "3.12.3"
  }
 },
 "nbformat": 4,
 "nbformat_minor": 5
}
